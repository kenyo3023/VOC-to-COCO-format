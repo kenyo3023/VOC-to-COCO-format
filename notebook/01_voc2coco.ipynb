{
 "cells": [
  {
   "cell_type": "code",
   "execution_count": 1,
   "metadata": {},
   "outputs": [],
   "source": [
    "import os\n",
    "import xml.etree.ElementTree as ET"
   ]
  },
  {
   "cell_type": "code",
   "execution_count": 2,
   "metadata": {},
   "outputs": [],
   "source": [
    "trainval_path = '../VOC2012_trainval'\n",
    "path = trainval_path\n",
    "\n",
    "xml_path = os.path.join(path, 'ImageSets/Main')\n",
    "xml_ls = os.listdir(xml_path)"
   ]
  },
  {
   "cell_type": "code",
   "execution_count": 3,
   "metadata": {},
   "outputs": [],
   "source": [
    "f = open(os.path.join(xml_path, xml_ls[1]), 'r')\n",
    "text = f.read()\n",
    "f.close()"
   ]
  },
  {
   "cell_type": "code",
   "execution_count": 4,
   "metadata": {},
   "outputs": [],
   "source": [
    "text = text.split()\n",
    "xmls = [text[i] for i in range(len(text)) if i%2==0]"
   ]
  },
  {
   "cell_type": "code",
   "execution_count": 5,
   "metadata": {},
   "outputs": [],
   "source": [
    "f = open(os.path.join(xml_path, xml_ls[0]), 'r')\n",
    "text = f.read()\n",
    "f.close()\n",
    "\n",
    "text = text.split()\n",
    "xmls = [text[i] for i in range(len(text)) if i%2==0]\n",
    "status = [text[i] for i in range(len(text)) if i%2!=0]"
   ]
  },
  {
   "cell_type": "code",
   "execution_count": 6,
   "metadata": {},
   "outputs": [],
   "source": [
    "annot_path = os.path.join(path, 'Annotations')\n",
    "annot_xml = os.listdir(annot_path)\n",
    "task_xmls = [xml+'.xml' for xml in xmls if xml+'.xml' in annot_xml]"
   ]
  },
  {
   "cell_type": "code",
   "execution_count": 7,
   "metadata": {},
   "outputs": [],
   "source": [
    "annot_json = {}\n",
    "for i in ['info', 'licenses', 'images', 'annotations', 'categories']:\n",
    "    annot_json[i] = []"
   ]
  },
  {
   "cell_type": "code",
   "execution_count": 8,
   "metadata": {},
   "outputs": [],
   "source": [
    "def get_image_meta(root):\n",
    "    file_name = root.find('filename').text\n",
    "    _id = int(file_name.replace('_', '').split('.jpg')[0])\n",
    "    \n",
    "    # print(file_name)\n",
    "    image_info = {'license': None,\n",
    "     'file_name': None,\n",
    "     'coco_url': None,\n",
    "     'height': None,\n",
    "     'width': None,\n",
    "     'date_captured': None,\n",
    "     'flickr_url': None,\n",
    "     'id': None}\n",
    "    image_info['file_name'] = file_name\n",
    "    image_info['height'] = root.find('size').find('height').text\n",
    "    image_info['width'] = root.find('size').find('width').text\n",
    "    image_info['id'] = _id\n",
    "    \n",
    "    return image_info"
   ]
  },
  {
   "cell_type": "code",
   "execution_count": 9,
   "metadata": {},
   "outputs": [],
   "source": [
    "def get_annot_meta(root):\n",
    "    file_name = root.find('filename').text\n",
    "    _id = int(file_name.replace('_', '').split('.jpg')[0])\n",
    "    xmins, ymins = [], []\n",
    "    xmaxs, ymaxs = [], []\n",
    "    categories = []\n",
    "\n",
    "    for ob in root.findall('object'):\n",
    "        categories.append(ob.find('name').text)\n",
    "        bndbox = ob.find('bndbox')\n",
    "        xmins.append(int(bndbox.find('xmin').text))\n",
    "        ymins.append(int(bndbox.find('ymin').text))\n",
    "        xmaxs.append(int(bndbox.find('xmax').text))\n",
    "        ymaxs.append(int(bndbox.find('ymax').text))\n",
    "\n",
    "    for i in range(len(categories)):\n",
    "        annots_meta.append({'segmentation': None,\n",
    "          'area': None,\n",
    "          'iscrowd': 0,\n",
    "          'image_id': _id,\n",
    "          'bbox': [xmins[i], ymins[i], xmaxs[i]-xmins[i], ymaxs[i]-ymins[i]],\n",
    "          'category_id': categories[i],\n",
    "          'id': None,\n",
    "          'ignore': 0}\n",
    "                               )"
   ]
  },
  {
   "cell_type": "code",
   "execution_count": 10,
   "metadata": {},
   "outputs": [],
   "source": [
    "images_meta = []\n",
    "annots_meta = []\n",
    "for xml in task_xmls:\n",
    "    tree = ET.parse(os.path.join(annot_path, xml))\n",
    "    root = tree.getroot()\n",
    "    \n",
    "    images_meta.append(get_image_meta(root))\n",
    "    get_annot_meta(root)\n",
    "    \n",
    "for i in range(len(annots_meta)):\n",
    "    annots_meta[i]['id'] = i"
   ]
  },
  {
   "cell_type": "code",
   "execution_count": 11,
   "metadata": {},
   "outputs": [],
   "source": [
    "categories = list(set([meta['category_id'] for meta in annots_meta]))\n",
    "categories_id = [i for i in range(len(categories))]\n",
    "\n",
    "categories_meta = []\n",
    "for _id, cat in zip(categories_id, categories):\n",
    "    categories_meta.append({'id': _id, 'name': cat})\n",
    "\n",
    "for meta in annots_meta:\n",
    "    meta['category_id'] = (categories.index(meta['category_id']))"
   ]
  },
  {
   "cell_type": "code",
   "execution_count": 12,
   "metadata": {},
   "outputs": [],
   "source": [
    "annot_json['images'] = images_meta\n",
    "annot_json['annotations'] = annots_meta\n",
    "annot_json['categories'] = categories_meta"
   ]
  },
  {
   "cell_type": "code",
   "execution_count": 13,
   "metadata": {},
   "outputs": [
    {
     "data": {
      "text/plain": [
       "[{'id': 0, 'name': 'person'},\n",
       " {'id': 1, 'name': 'aeroplane'},\n",
       " {'id': 2, 'name': 'bottle'},\n",
       " {'id': 3, 'name': 'chair'},\n",
       " {'id': 4, 'name': 'train'},\n",
       " {'id': 5, 'name': 'bicycle'},\n",
       " {'id': 6, 'name': 'bus'},\n",
       " {'id': 7, 'name': 'tvmonitor'},\n",
       " {'id': 8, 'name': 'bird'},\n",
       " {'id': 9, 'name': 'sofa'},\n",
       " {'id': 10, 'name': 'cat'},\n",
       " {'id': 11, 'name': 'dog'},\n",
       " {'id': 12, 'name': 'cow'},\n",
       " {'id': 13, 'name': 'car'},\n",
       " {'id': 14, 'name': 'horse'},\n",
       " {'id': 15, 'name': 'diningtable'},\n",
       " {'id': 16, 'name': 'boat'},\n",
       " {'id': 17, 'name': 'sheep'},\n",
       " {'id': 18, 'name': 'motorbike'},\n",
       " {'id': 19, 'name': 'pottedplant'}]"
      ]
     },
     "execution_count": 13,
     "metadata": {},
     "output_type": "execute_result"
    }
   ],
   "source": [
    "categories_meta"
   ]
  },
  {
   "cell_type": "code",
   "execution_count": 14,
   "metadata": {},
   "outputs": [],
   "source": [
    "# coco_path = os.path.join('../VOC2012_coco/annotations')\n",
    "\n",
    "# with open(os.path.join(coco_path, 'annotations.json'), 'w') as json_file:\n",
    "#     json.dump(annot_json, json_file, indent=4)"
   ]
  },
  {
   "cell_type": "code",
   "execution_count": null,
   "metadata": {},
   "outputs": [],
   "source": []
  }
 ],
 "metadata": {
  "kernelspec": {
   "display_name": "Python 3",
   "language": "python",
   "name": "python3"
  },
  "language_info": {
   "codemirror_mode": {
    "name": "ipython",
    "version": 3
   },
   "file_extension": ".py",
   "mimetype": "text/x-python",
   "name": "python",
   "nbconvert_exporter": "python",
   "pygments_lexer": "ipython3",
   "version": "3.8.3"
  },
  "nbTranslate": {
   "displayLangs": [
    "*"
   ],
   "hotkey": "alt-t",
   "langInMainMenu": true,
   "sourceLang": "en",
   "targetLang": "fr",
   "useGoogleTranslate": true
  },
  "toc": {
   "base_numbering": 1,
   "nav_menu": {},
   "number_sections": true,
   "sideBar": true,
   "skip_h1_title": false,
   "title_cell": "Table of Contents",
   "title_sidebar": "Contents",
   "toc_cell": false,
   "toc_position": {},
   "toc_section_display": true,
   "toc_window_display": false
  },
  "varInspector": {
   "cols": {
    "lenName": 16,
    "lenType": 16,
    "lenVar": 40
   },
   "kernels_config": {
    "python": {
     "delete_cmd_postfix": "",
     "delete_cmd_prefix": "del ",
     "library": "var_list.py",
     "varRefreshCmd": "print(var_dic_list())"
    },
    "r": {
     "delete_cmd_postfix": ") ",
     "delete_cmd_prefix": "rm(",
     "library": "var_list.r",
     "varRefreshCmd": "cat(var_dic_list()) "
    }
   },
   "types_to_exclude": [
    "module",
    "function",
    "builtin_function_or_method",
    "instance",
    "_Feature"
   ],
   "window_display": false
  }
 },
 "nbformat": 4,
 "nbformat_minor": 4
}
